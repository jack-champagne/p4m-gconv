{
 "cells": [
  {
   "cell_type": "markdown",
   "source": [
    "## Model Comparison Jupyter notebook\r\n",
    "\r\n",
    "This notebook will load nets as defined int the imported python modules with certain preformance characteristics for comparison.\r\n",
    "This file will also contain the tensorboard that helps visualize the models accuracy over time and the training process.\r\n",
    "\r\n",
    "Components:\r\n",
    "- initialize training parameters and fetch dataset (including RotMNIST dataset)\r\n",
    "- compare model attributes (such as total parameters and structure)\r\n",
    "- define hyperparameters\r\n",
    "- create tensorboard and set up preformance graphs\r\n",
    "- compare model training and preformance under different conditions\r\n",
    "- save models to files"
   ],
   "metadata": {}
  },
  {
   "cell_type": "code",
   "execution_count": 1,
   "source": [
    "### Imports for pytorch and dataset\r\n",
    "\r\n",
    "import torch\r\n",
    "from torch.autograd import Variable\r\n",
    "\r\n",
    "import torchvision\r\n",
    "from torchvision import datasets\r\n",
    "import torchvision.transforms as transforms\r\n",
    "\r\n",
    "from torch.utils.data import DataLoader\r\n",
    "import matplotlib.pyplot as plt\r\n",
    "\r\n",
    "import torch.nn as nn\r\n",
    "\r\n",
    "from torchvision.datasets.cifar import CIFAR10"
   ],
   "outputs": [],
   "metadata": {}
  },
  {
   "cell_type": "code",
   "execution_count": 2,
   "source": [
    "### Defining simple composition for rotations for following compose\r\n",
    "import torchvision.transforms.functional as TF\r\n",
    "import random\r\n",
    "\r\n",
    "class RotationP4:\r\n",
    "    \"\"\"Rotate randomly in p4 group\"\"\"\r\n",
    "\r\n",
    "    def __init__(self):\r\n",
    "        self.angles = [-90, 0, 90, 180]\r\n",
    "        \r\n",
    "    def __call__(self, x):\r\n",
    "        angle = random.choice(self.angles)\r\n",
    "        return TF.rotate(x, angle)\r\n",
    "\r\n",
    "augmented_transform = transforms.Compose(\r\n",
    "    [transforms.RandomHorizontalFlip(),\r\n",
    "    transforms.ToTensor(),\r\n",
    "    RotationP4(),\r\n",
    "    transforms.Normalize((0.5, 0.5, 0.5), (0.5, 0.5, 0.5))])\r\n",
    "\r\n",
    "normal_transforms = transform_train = transforms.Compose(\r\n",
    "    [transforms.ToTensor(),\r\n",
    "    transforms.Normalize((0.5, 0.5, 0.5), (0.5, 0.5, 0.5))])"
   ],
   "outputs": [],
   "metadata": {}
  },
  {
   "cell_type": "code",
   "execution_count": 3,
   "source": [
    "### Define dataloaders\r\n",
    "### Instatiate RotMNIST and verify behaviour below with the dataloaders\r\n",
    "dataset_rot = CIFAR10(\r\n",
    "    root = 'data',\r\n",
    "    download=True,\r\n",
    "    train=True,\r\n",
    "    transform=augmented_transform\r\n",
    ")\r\n",
    "\r\n",
    "test_dataset_rot = CIFAR10(\r\n",
    "    root = 'data',\r\n",
    "    download=True,\r\n",
    "    train=False,\r\n",
    "    transform=augmented_transform\r\n",
    ")\r\n",
    "\r\n",
    "dataset_upright = CIFAR10(\r\n",
    "    root = 'data',\r\n",
    "    download=True,\r\n",
    "    train=True,\r\n",
    "    transform=normal_transforms,\r\n",
    ")"
   ],
   "outputs": [
    {
     "output_type": "stream",
     "name": "stdout",
     "text": [
      "Files already downloaded and verified\n",
      "Files already downloaded and verified\n",
      "Files already downloaded and verified\n"
     ]
    }
   ],
   "metadata": {}
  },
  {
   "cell_type": "code",
   "execution_count": 4,
   "source": [
    "### Import different networks from python files\r\n",
    "# TODO: Uncomment other networks and import\r\n",
    "from p4m_conv import P4MNetC\r\n",
    "from p4_conv import P4NetC\r\n",
    "from z2_conv import ConvNetC\r\n",
    "\r\n",
    "p4m_net = P4MNetC()\r\n",
    "p4_net = P4NetC()\r\n",
    "conv_net = ConvNetC()\r\n",
    "\r\n",
    "p4m_total_params = sum(p.numel() for p in p4m_net.parameters() if p.requires_grad)\r\n",
    "p4_total_params = sum(p.numel() for p in p4_net.parameters() if p.requires_grad)\r\n",
    "z2_total_params = sum(p.numel() for p in conv_net.parameters() if p.requires_grad)\r\n",
    "\r\n",
    "print(p4m_net)\r\n",
    "print(p4_net)\r\n",
    "print(conv_net)\r\n",
    "\r\n",
    "print(\"P4M  --\\tTrainable Params: \" + str(p4m_total_params))\r\n",
    "print(\"P4   --\\tTrainable Params: \" + str(p4_total_params))\r\n",
    "print(\"Conv --\\tTrainable Params: \" + str(z2_total_params))"
   ],
   "outputs": [
    {
     "output_type": "stream",
     "name": "stdout",
     "text": [
      "P4MNetC(\n",
      "  (conv1): P4MConvZ2()\n",
      "  (conv2): P4MConvP4M()\n",
      "  (conv3): P4MConvP4M()\n",
      "  (fc1): Linear(in_features=48, out_features=32, bias=True)\n",
      "  (fc2): Linear(in_features=32, out_features=10, bias=True)\n",
      ")\n",
      "P4NetC(\n",
      "  (conv1): P4ConvZ2()\n",
      "  (conv2): P4ConvP4()\n",
      "  (conv3): P4ConvP4()\n",
      "  (fc1): Linear(in_features=64, out_features=32, bias=True)\n",
      "  (fc2): Linear(in_features=32, out_features=10, bias=True)\n",
      ")\n",
      "ConvNetC(\n",
      "  (pool): MaxPool2d(kernel_size=2, stride=2, padding=0, dilation=1, ceil_mode=False)\n",
      "  (conv1): Conv2d(3, 12, kernel_size=(3, 3), stride=(1, 1))\n",
      "  (conv2): Conv2d(12, 24, kernel_size=(3, 3), stride=(1, 1))\n",
      "  (conv3): Conv2d(24, 32, kernel_size=(3, 3), stride=(1, 1))\n",
      "  (conv4): Conv2d(32, 64, kernel_size=(3, 3), stride=(1, 1))\n",
      "  (fc1): Linear(in_features=576, out_features=256, bias=True)\n",
      "  (fc2): Linear(in_features=256, out_features=128, bias=True)\n",
      "  (fc3): Linear(in_features=128, out_features=10, bias=True)\n",
      ")\n",
      "P4M  --\tTrainable Params: 290882\n",
      "P4   --\tTrainable Params: 259722\n",
      "Conv --\tTrainable Params: 210290\n"
     ]
    }
   ],
   "metadata": {}
  },
  {
   "cell_type": "code",
   "execution_count": 5,
   "source": [
    "### Hyperparameters\r\n",
    "learning_rate = 0.001\r\n",
    "batch_size = 64\r\n",
    "epochs = 128\r\n",
    "\r\n",
    "### Objectives/Loss fn\r\n",
    "loss_fn = nn.CrossEntropyLoss()\r\n",
    "\r\n",
    "### Dataloaders\r\n",
    "train_dataloader_rot = DataLoader(dataset_rot, batch_size=batch_size, shuffle=True)\r\n",
    "test_dataloader_rot = DataLoader(test_dataset_rot, batch_size=batch_size, shuffle=True)\r\n",
    "train_dataloader_upright = DataLoader(dataset_upright, batch_size=batch_size, shuffle=True)"
   ],
   "outputs": [],
   "metadata": {}
  },
  {
   "cell_type": "code",
   "execution_count": 6,
   "source": [
    "def train_loop(dataloader, model, loss_fn, optimizer, cur_epoch):\r\n",
    "    running_loss = 0.0\r\n",
    "    size = len(dataloader.dataset)\r\n",
    "    for batch, (X, y) in enumerate(dataloader):\r\n",
    "        model.to(device)\r\n",
    "        # Compute prediction and loss for backprop\r\n",
    "        pred = model(X.to(device))\r\n",
    "        loss = loss_fn(pred, y.to(device))\r\n",
    "\r\n",
    "        # Backpropagation by setting grad to zero, calculating using backprop engine and stepping (using learning rate)\r\n",
    "        optimizer.zero_grad()\r\n",
    "        loss.backward()\r\n",
    "        optimizer.step()\r\n",
    "\r\n",
    "        running_loss += loss.item()\r\n",
    "\r\n",
    "        if batch % 100 == 99:\r\n",
    "            loss, current = loss.item(), batch * len(X)\r\n",
    "            print(f\"loss: {loss:>7f}  [{current:>5d}/{size:>5d}]\")\r\n",
    "\r\n",
    "            writer.add_scalar('training loss', running_loss / 100, cur_epoch * len(dataloader) + batch)\r\n",
    "            running_loss = 0.0\r\n",
    "\r\n",
    "def test_loop(dataloader, model, loss_fn):\r\n",
    "    model.to(device)\r\n",
    "    size = len(dataloader.dataset)\r\n",
    "    test_loss, correct = 0, 0\r\n",
    "    \r\n",
    "    # No gradient on training data (faster computation and no optimization happening here anyway)\r\n",
    "    with torch.no_grad():\r\n",
    "        for X, y in dataloader:\r\n",
    "            pred = model(X.to(device))\r\n",
    "            test_loss += loss_fn(pred, y.to(device)).item()\r\n",
    "            correct += (pred.argmax(1) == y.to(device)).type(torch.float).sum().item()\r\n",
    "\r\n",
    "    test_loss /= size\r\n",
    "    correct /= size\r\n",
    "    \r\n",
    "    print(f\"Test Error: \\n Accuracy: {(100*correct):>0.1f}%, Avg loss: {test_loss:>8f} \\n\")\r\n",
    "    return correct"
   ],
   "outputs": [],
   "metadata": {}
  },
  {
   "cell_type": "code",
   "execution_count": 7,
   "source": [
    "### Train all networks\r\n",
    "def train_test_net(net, train_upright):\r\n",
    "    # Add option to train networks with RotMNIST\r\n",
    "    test_dataloader = train_dataloader_rot\r\n",
    "    if (train_upright):\r\n",
    "        test_dataloader = train_dataloader_upright\r\n",
    "\r\n",
    "    optimizer = torch.optim.SGD(net.parameters(), lr=learning_rate, momentum=0.9)\r\n",
    "    for t in range(epochs):\r\n",
    "        print(f\"Epoch {t+1}\\n-------------------------------\")\r\n",
    "        train_loop(test_dataloader, net, loss_fn, optimizer, t)\r\n",
    "        correct = test_loop(test_dataloader_rot, net, loss_fn)\r\n",
    "        writer.add_scalar('Test Performance', correct, t * len(test_dataloader_rot) + batch_size)\r\n",
    "    print('Finished Training Net + ' + str(type(net)))"
   ],
   "outputs": [],
   "metadata": {}
  },
  {
   "cell_type": "code",
   "execution_count": 8,
   "source": [
    "device = torch.device(\"cuda:0\" if torch.cuda.is_available() else \"cpu\")\r\n",
    "\r\n",
    "import torch.utils.tensorboard\r\n",
    "from torch.utils.tensorboard import SummaryWriter\r\n",
    "\r\n",
    "writer = SummaryWriter('runs/p4m_CIFAR_1')\r\n",
    "train_test_net(p4m_net, True)\r\n",
    "\r\n",
    "writer = SummaryWriter('runs/p4_CIFAR_1')\r\n",
    "train_test_net(p4_net, True)\r\n",
    "\r\n",
    "writer = SummaryWriter('runs/conv_CIFAR_1')\r\n",
    "train_test_net(conv_net, False)\r\n",
    "\r\n",
    "convu_net = ConvNetC()\r\n",
    "writer = SummaryWriter('runs/convu_CIFAR_1')\r\n",
    "train_test_net(convu_net, True)"
   ],
   "outputs": [
    {
     "output_type": "stream",
     "name": "stdout",
     "text": [
      "Epoch 1\n",
      "-------------------------------\n",
      "loss: 2.294169  [ 6336/50000]\n",
      "loss: 2.114599  [12736/50000]\n",
      "loss: 1.902977  [19136/50000]\n",
      "loss: 2.069120  [25536/50000]\n",
      "loss: 1.905852  [31936/50000]\n",
      "loss: 1.983189  [38336/50000]\n",
      "loss: 1.844396  [44736/50000]\n",
      "Test Error: \n",
      " Accuracy: 34.8%, Avg loss: 0.028136 \n",
      "\n",
      "Epoch 2\n",
      "-------------------------------\n",
      "loss: 1.862592  [ 6336/50000]\n",
      "loss: 1.876931  [12736/50000]\n",
      "loss: 1.754698  [19136/50000]\n",
      "loss: 1.625921  [25536/50000]\n",
      "loss: 1.561831  [31936/50000]\n",
      "loss: 1.564086  [38336/50000]\n",
      "loss: 1.788957  [44736/50000]\n"
     ]
    }
   ],
   "metadata": {
    "tags": [
     "outputPrepend"
    ]
   }
  },
  {
   "cell_type": "markdown",
   "source": [
    "### Model Comparisons\r\n",
    "\r\n",
    "There are a few comparisons between the models to be made here. Here is a list of the following that I log\r\n",
    "- Model accuracy on 10000 test images\r\n",
    "- Model accuracy per class"
   ],
   "metadata": {}
  },
  {
   "cell_type": "code",
   "execution_count": null,
   "source": [
    "def test_accuracy(net):\r\n",
    "    correct = 0\r\n",
    "    total = 0\r\n",
    "    # since we're not training, we don't need to calculate the gradients for our outputs\r\n",
    "    with torch.no_grad():\r\n",
    "        for data in test_dataloader_rot:\r\n",
    "            images, labels = data[0].to(device), data[1].to(device)\r\n",
    "            # calculate outputs by running images through the network\r\n",
    "            outputs = net(images)\r\n",
    "            # the class with the highest energy is what we choose as prediction\r\n",
    "            _, predicted = torch.max(outputs.data, 1)\r\n",
    "            total += labels.size(0)\r\n",
    "            correct += (predicted == labels.to(device)).sum().item()\r\n",
    "\r\n",
    "    print('Accuracy of the ' + str(type(net)) + ' on the 10000 test images: %f %%' % (\r\n",
    "        100.0 * correct / total))"
   ],
   "outputs": [],
   "metadata": {}
  },
  {
   "cell_type": "code",
   "execution_count": null,
   "source": [
    "def class_labels(net):\r\n",
    "    \r\n",
    "    classes = ('plane', 'car', 'bird', 'cat',\r\n",
    "           'deer', 'dog', 'frog', 'horse', 'ship', 'truck')\r\n",
    "    # prepare to count predictions for each class\r\n",
    "    correct_pred = {num : 0 for num in range(0, 10)}\r\n",
    "    total_pred = {num : 0 for num in range(0, 10)}\r\n",
    "\r\n",
    "    # again no gradients needed\r\n",
    "    with torch.no_grad():\r\n",
    "        for data in test_dataloader_rot:\r\n",
    "            images, labels = data[0].to(device), data[1].to(device)\r\n",
    "            outputs = net(images.to(device))\r\n",
    "            _, predictions = torch.max(outputs, 1)\r\n",
    "            # collect the correct predictions for each class\r\n",
    "            for label, prediction in zip(labels, predictions):\r\n",
    "                if label == prediction:\r\n",
    "                    correct_pred[classes[label]] += 1\r\n",
    "                total_pred[classes[label]] += 1\r\n",
    "\r\n",
    "    print('Classes for ' + str(type(net)))\r\n",
    "\r\n",
    "    # print accuracy for each class\r\n",
    "    for classname, correct_count in correct_pred.items():\r\n",
    "        accuracy = 100 * float(correct_count) / total_pred[classname]\r\n",
    "        print(\"Accuracy for num {} is: {:.1f} %\".format(classname,\r\n",
    "                                                   accuracy))"
   ],
   "outputs": [],
   "metadata": {}
  },
  {
   "cell_type": "code",
   "execution_count": null,
   "source": [
    "test_accuracy(p4m_net)\r\n",
    "class_labels(p4m_net)\r\n",
    "\r\n",
    "test_accuracy(p4_net)\r\n",
    "class_labels(p4_net)\r\n",
    "\r\n",
    "test_accuracy(conv_net)\r\n",
    "class_labels(conv_net)\r\n",
    "\r\n",
    "test_accuracy(convu_net)\r\n",
    "class_labels(convu_net)"
   ],
   "outputs": [],
   "metadata": {}
  },
  {
   "cell_type": "code",
   "execution_count": null,
   "source": [
    "## TODO: Uncomment\r\n",
    "torch.save(p4m_net, 'upright-trained-p4m-cifar-1.pth')\r\n",
    "torch.save(p4_net, 'upright-trained-p4-cifar-1.pth')\r\n",
    "torch.save(conv_net, 'rot-trained-conv-cifar-1.pth')\r\n",
    "torch.save(convu_net, 'upright-trained-conv-cifar-1.pth')"
   ],
   "outputs": [],
   "metadata": {}
  }
 ],
 "metadata": {
  "interpreter": {
   "hash": "f665fd8ed1386b9605bd6d1d95408943e5396eca0f77e44c2585e6a9876cbe3c"
  },
  "kernelspec": {
   "name": "python3",
   "display_name": "Python 3.9.5 64-bit ('reu-code': conda)"
  },
  "language_info": {
   "codemirror_mode": {
    "name": "ipython",
    "version": 3
   },
   "file_extension": ".py",
   "mimetype": "text/x-python",
   "name": "python",
   "nbconvert_exporter": "python",
   "pygments_lexer": "ipython3",
   "version": "3.9.5"
  },
  "orig_nbformat": 4
 },
 "nbformat": 4,
 "nbformat_minor": 2
}